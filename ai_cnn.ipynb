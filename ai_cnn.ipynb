{
  "cells": [
    {
      "cell_type": "code",
      "execution_count": null,
      "metadata": {
        "colab": {
          "base_uri": "https://localhost:8080/"
        },
        "id": "0f3HGZugd9cy",
        "outputId": "552dac30-5ecb-410a-dfc9-913cd12f8d15"
      },
      "outputs": [
        {
          "output_type": "stream",
          "name": "stdout",
          "text": [
            "Mounted at /content/drive\n"
          ]
        }
      ],
      "source": [
        "# 구글 드라이브 마운트\n",
        "from google.colab import drive\n",
        "\n",
        "\n",
        "drive.mount('/content/drive') "
      ]
    },
    {
      "cell_type": "code",
      "execution_count": null,
      "metadata": {
        "colab": {
          "base_uri": "https://localhost:8080/",
          "height": 35
        },
        "id": "tTVHKU5kesnU",
        "outputId": "d0b4d086-57d9-40a8-8c87-7ae9f0c588a1"
      },
      "outputs": [
        {
          "output_type": "execute_result",
          "data": {
            "text/plain": [
              "'/content/drive/MyDrive/colab/Term_Dataset'"
            ],
            "application/vnd.google.colaboratory.intrinsic+json": {
              "type": "string"
            }
          },
          "metadata": {},
          "execution_count": 2
        }
      ],
      "source": [
        "import os\n",
        "\n",
        "drive_dir = \"/content/drive/MyDrive/colab\"\n",
        "data_dir = os.path.join(drive_dir,\"Term_Dataset\")\n",
        "data_dir"
      ]
    },
    {
      "cell_type": "code",
      "execution_count": null,
      "metadata": {
        "id": "b9duqoc9eGV5"
      },
      "outputs": [],
      "source": [
        "category = ['bag','bed', 'chair', 'coffeetable', 'cup', 'kitchentools', 'lamp', 'laptop', 'LivingSofa', 'pot', 'shoe']"
      ]
    },
    {
      "cell_type": "code",
      "execution_count": null,
      "metadata": {
        "id": "G-7CEs8FQchi"
      },
      "outputs": [],
      "source": [
        "import pandas as pd"
      ]
    },
    {
      "cell_type": "code",
      "execution_count": null,
      "metadata": {
        "id": "vGb5NwulQccm"
      },
      "outputs": [],
      "source": [
        "train_df = pd.read_csv('/content/drive/MyDrive/colab/Term_Dataset/train_data.csv')"
      ]
    },
    {
      "cell_type": "code",
      "execution_count": null,
      "metadata": {
        "id": "KPvVm26NQcaB"
      },
      "outputs": [],
      "source": [
        "train_list = train_df.file_name.tolist()"
      ]
    },
    {
      "cell_type": "code",
      "execution_count": null,
      "metadata": {
        "id": "a3Tn2mqdQcXV"
      },
      "outputs": [],
      "source": [
        "# 폴더 생성 - train\n",
        "\n",
        "for i in category:\n",
        "  os.mkdir('/content/drive/MyDrive/colab/Term_Dataset'+'/'+'train'+'/'+i)"
      ]
    },
    {
      "cell_type": "code",
      "execution_count": null,
      "metadata": {
        "id": "-ag7QpwBQcU2"
      },
      "outputs": [],
      "source": [
        "import shutil"
      ]
    },
    {
      "cell_type": "code",
      "execution_count": null,
      "metadata": {
        "id": "dNmHwAQgQcSS"
      },
      "outputs": [],
      "source": [
        "# 폴더에 옮기기 - train\n",
        "for i in range(len(train_list)):\n",
        " shutil.move(os.path.join(data_dir, 'train', train_list[i]), os.path.join(data_dir, 'train', train_df.loc[i:i,['class']].values.astype(str)[0][0], train_list[i]))"
      ]
    },
    {
      "cell_type": "markdown",
      "metadata": {
        "id": "G_MWw-m_Q6Zb"
      },
      "source": [
        "val data csv 파일로 폴더 생성 후 옮기기"
      ]
    },
    {
      "cell_type": "code",
      "execution_count": null,
      "metadata": {
        "id": "wKs2kqTPQcPt"
      },
      "outputs": [],
      "source": [
        "val_df = pd.read_csv('/content/drive/MyDrive/colab/Term_Dataset/val_data.csv')"
      ]
    },
    {
      "cell_type": "code",
      "execution_count": null,
      "metadata": {
        "id": "sohGaFAvQcNH"
      },
      "outputs": [],
      "source": [
        "val_list = val_df.file_name.tolist()"
      ]
    },
    {
      "cell_type": "code",
      "execution_count": null,
      "metadata": {
        "id": "n7y6wy2MQcKw"
      },
      "outputs": [],
      "source": [
        "# 폴더 생성 - val\n",
        "\n",
        "for i in category:\n",
        "  os.mkdir('/content/drive/MyDrive/colab/Term_Dataset'+'/'+'val'+'/'+i)"
      ]
    },
    {
      "cell_type": "code",
      "execution_count": null,
      "metadata": {
        "id": "RCrt3hDyQcIe"
      },
      "outputs": [],
      "source": [
        "# 폴더에 옮기기 - val\n",
        "for i in range(len(val_list)):\n",
        " shutil.move(os.path.join(data_dir, 'val', val_list[i]), os.path.join(data_dir, 'val', val_df.loc[i:i,['class']].values.astype(str)[0][0], val_list[i]))"
      ]
    },
    {
      "cell_type": "code",
      "execution_count": null,
      "metadata": {
        "id": "Q_04P3KtekRM"
      },
      "outputs": [],
      "source": [
        "import numpy as np\n",
        "\n",
        "import tensorflow as tf\n",
        "from tensorflow.keras import layers, models, losses, optimizers, datasets, preprocessing, utils"
      ]
    },
    {
      "cell_type": "code",
      "execution_count": null,
      "metadata": {
        "id": "5FrvqVJ0eGQ3"
      },
      "outputs": [],
      "source": [
        "from ipywidgets import interact\n",
        "import matplotlib.pyplot as plt\n",
        "import pandas as pd\n",
        "import PIL"
      ]
    },
    {
      "cell_type": "code",
      "execution_count": null,
      "metadata": {
        "colab": {
          "base_uri": "https://localhost:8080/"
        },
        "id": "IflNiq1xeGOc",
        "outputId": "f19095f4-32a1-4949-f074-c2d5f6bc8946"
      },
      "outputs": [
        {
          "output_type": "stream",
          "name": "stdout",
          "text": [
            "864\n"
          ]
        }
      ],
      "source": [
        "# train 데이터 개수\n",
        "image_count=0\n",
        "for i in category:\n",
        "  list = os.listdir('/content/drive/MyDrive/colab/Term_Dataset/train'+'/'+i)\n",
        "  number_files = len(list)\n",
        "  image_count = image_count + number_files\n",
        "\n",
        "print(image_count)\n"
      ]
    },
    {
      "cell_type": "code",
      "execution_count": null,
      "metadata": {
        "colab": {
          "base_uri": "https://localhost:8080/"
        },
        "id": "DAQPYxvKkH0Y",
        "outputId": "c28db9f9-bc10-4b76-ca61-a21dc9d0bf20"
      },
      "outputs": [
        {
          "output_type": "stream",
          "name": "stdout",
          "text": [
            "133\n"
          ]
        }
      ],
      "source": [
        "# val 데이터 개수\n",
        "image_count=0\n",
        "for i in category:\n",
        "  list = os.listdir('/content/drive/MyDrive/colab/Term_Dataset/val'+'/'+i)\n",
        "  number_files = len(list)\n",
        "  image_count = image_count + number_files\n",
        "\n",
        "print(image_count)"
      ]
    },
    {
      "cell_type": "code",
      "execution_count": null,
      "metadata": {
        "id": "KbGMBSO7eGMF"
      },
      "outputs": [],
      "source": [
        "batch_size = 32\n",
        "img_h = 256\n",
        "img_w = 256\n",
        "num_classes = 11"
      ]
    },
    {
      "cell_type": "code",
      "execution_count": null,
      "metadata": {
        "id": "cZjmF8uBeGJ1"
      },
      "outputs": [],
      "source": [
        "train_dir = '/content/drive/MyDrive/colab/Term_Dataset/train'"
      ]
    },
    {
      "cell_type": "code",
      "execution_count": null,
      "metadata": {
        "id": "YLeprsC1eGH9"
      },
      "outputs": [],
      "source": [
        "train_datagen = preprocessing.image.ImageDataGenerator(\n",
        "    rescale = 1.0/255,\n",
        "    width_shift_range=0.1,\n",
        "    height_shift_range=0.1,\n",
        "    horizontal_flip=True,\n",
        "    rotation_range=10,\n",
        "    zoom_range=0.2,\n",
        "    fill_mode=\"constant\"\n",
        ")\n"
      ]
    },
    {
      "cell_type": "code",
      "execution_count": null,
      "metadata": {
        "colab": {
          "base_uri": "https://localhost:8080/"
        },
        "id": "MknAZz2-eGFV",
        "outputId": "daa18b6e-d6b3-46f2-9db2-3240726a4f94"
      },
      "outputs": [
        {
          "output_type": "stream",
          "name": "stdout",
          "text": [
            "Found 864 images belonging to 11 classes.\n"
          ]
        }
      ],
      "source": [
        "train_ds = train_datagen.flow_from_directory(\n",
        "    directory = train_dir,\n",
        "    target_size = (img_h, img_w),\n",
        "    class_mode = 'categorical',\n",
        "    subset = 'training',\n",
        "    batch_size = 32,\n",
        "    shuffle=True,\n",
        "    seed=123\n",
        ")"
      ]
    },
    {
      "cell_type": "code",
      "execution_count": null,
      "metadata": {
        "id": "2GDC9x0mjFob"
      },
      "outputs": [],
      "source": [
        "val_dir = '/content/drive/MyDrive/colab/Term_Dataset/val'"
      ]
    },
    {
      "cell_type": "code",
      "execution_count": null,
      "metadata": {
        "id": "uHjW1LI9iiSC"
      },
      "outputs": [],
      "source": [
        "val_datagen = preprocessing.image.ImageDataGenerator(\n",
        "    rescale = 1.0/255,\n",
        ")"
      ]
    },
    {
      "cell_type": "code",
      "execution_count": null,
      "metadata": {
        "colab": {
          "base_uri": "https://localhost:8080/"
        },
        "id": "xdQ43vrsgGz6",
        "outputId": "cc9c3588-9a5c-4a5c-f1e6-91a55911b16f"
      },
      "outputs": [
        {
          "output_type": "stream",
          "name": "stdout",
          "text": [
            "Found 133 images belonging to 11 classes.\n"
          ]
        }
      ],
      "source": [
        "val_ds = val_datagen.flow_from_directory(\n",
        "    directory = val_dir,\n",
        "    target_size = (img_h, img_w),\n",
        "    class_mode = 'categorical',\n",
        "    subset = 'training',\n",
        "    batch_size = 32,\n",
        "    shuffle=True,\n",
        "    seed=123\n",
        ")"
      ]
    },
    {
      "cell_type": "code",
      "execution_count": null,
      "metadata": {
        "id": "aA-1Y0OsgGxE"
      },
      "outputs": [],
      "source": [
        "sample_data, sample_label = train_ds.next()"
      ]
    },
    {
      "cell_type": "code",
      "execution_count": null,
      "metadata": {
        "colab": {
          "base_uri": "https://localhost:8080/"
        },
        "id": "cYGmnWYJgGu2",
        "outputId": "a772a8b2-748b-4863-82b7-9eba6ad3da45"
      },
      "outputs": [
        {
          "output_type": "execute_result",
          "data": {
            "text/plain": [
              "((32, 256, 256, 3), (32, 11))"
            ]
          },
          "metadata": {},
          "execution_count": 22
        }
      ],
      "source": [
        "sample_data.shape, sample_label.shape"
      ]
    },
    {
      "cell_type": "code",
      "execution_count": null,
      "metadata": {
        "id": "1-pAs_GcgGsS"
      },
      "outputs": [],
      "source": [
        "inputs = layers.Input(shape=(img_h, img_w, 3), name='img')\n",
        "x=layers.Conv2D(32, 3, activation=\"relu\")(inputs)\n",
        "x=layers.Conv2D(64, 3, activation=\"relu\")(x)\n",
        "block_1_output = layers.MaxPooling2D(3)(x)"
      ]
    },
    {
      "cell_type": "code",
      "execution_count": null,
      "metadata": {
        "id": "AqeVPFHAgGqC"
      },
      "outputs": [],
      "source": [
        "x=layers.Conv2D(64, 3, activation=\"relu\", padding=\"same\")(block_1_output)\n",
        "x=layers.Conv2D(64, 3, activation=\"relu\", padding=\"same\")(x)\n",
        "block_2_output = layers.add([x, block_1_output])"
      ]
    },
    {
      "cell_type": "code",
      "execution_count": null,
      "metadata": {
        "id": "UWQNZfvJleMc"
      },
      "outputs": [],
      "source": [
        "x=layers.Conv2D(64, 3, activation=\"relu\", padding=\"same\")(block_2_output)\n",
        "x=layers.Conv2D(64, 3, activation=\"relu\", padding=\"same\")(x)\n",
        "block_3_output = layers.add([x, block_2_output])"
      ]
    },
    {
      "cell_type": "code",
      "execution_count": null,
      "metadata": {
        "id": "1WYDxx2pleKa"
      },
      "outputs": [],
      "source": [
        "x=layers.Conv2D(64, 3, activation=\"relu\")(block_3_output)\n",
        "x=layers.GlobalAveragePooling2D()(x)\n",
        "x=layers.Dense(256, activation=\"relu\")(x)\n",
        "x=layers.Dropout(0.5)(x)\n",
        "outputs = layers.Dense(num_classes)(x)"
      ]
    },
    {
      "cell_type": "code",
      "execution_count": null,
      "metadata": {
        "colab": {
          "base_uri": "https://localhost:8080/"
        },
        "id": "R-jZ7bwileIg",
        "outputId": "cdb280aa-32d4-42fa-e49e-fa6d5e4e3235"
      },
      "outputs": [
        {
          "output_type": "stream",
          "name": "stdout",
          "text": [
            "Model: \"toy_resnet\"\n",
            "__________________________________________________________________________________________________\n",
            " Layer (type)                   Output Shape         Param #     Connected to                     \n",
            "==================================================================================================\n",
            " img (InputLayer)               [(None, 256, 256, 3  0           []                               \n",
            "                                )]                                                                \n",
            "                                                                                                  \n",
            " conv2d (Conv2D)                (None, 254, 254, 32  896         ['img[0][0]']                    \n",
            "                                )                                                                 \n",
            "                                                                                                  \n",
            " conv2d_1 (Conv2D)              (None, 252, 252, 64  18496       ['conv2d[0][0]']                 \n",
            "                                )                                                                 \n",
            "                                                                                                  \n",
            " max_pooling2d (MaxPooling2D)   (None, 84, 84, 64)   0           ['conv2d_1[0][0]']               \n",
            "                                                                                                  \n",
            " conv2d_2 (Conv2D)              (None, 84, 84, 64)   36928       ['max_pooling2d[0][0]']          \n",
            "                                                                                                  \n",
            " conv2d_3 (Conv2D)              (None, 84, 84, 64)   36928       ['conv2d_2[0][0]']               \n",
            "                                                                                                  \n",
            " add (Add)                      (None, 84, 84, 64)   0           ['conv2d_3[0][0]',               \n",
            "                                                                  'max_pooling2d[0][0]']          \n",
            "                                                                                                  \n",
            " conv2d_4 (Conv2D)              (None, 84, 84, 64)   36928       ['add[0][0]']                    \n",
            "                                                                                                  \n",
            " conv2d_5 (Conv2D)              (None, 84, 84, 64)   36928       ['conv2d_4[0][0]']               \n",
            "                                                                                                  \n",
            " add_1 (Add)                    (None, 84, 84, 64)   0           ['conv2d_5[0][0]',               \n",
            "                                                                  'add[0][0]']                    \n",
            "                                                                                                  \n",
            " conv2d_6 (Conv2D)              (None, 82, 82, 64)   36928       ['add_1[0][0]']                  \n",
            "                                                                                                  \n",
            " global_average_pooling2d (Glob  (None, 64)          0           ['conv2d_6[0][0]']               \n",
            " alAveragePooling2D)                                                                              \n",
            "                                                                                                  \n",
            " dense (Dense)                  (None, 256)          16640       ['global_average_pooling2d[0][0]'\n",
            "                                                                 ]                                \n",
            "                                                                                                  \n",
            " dropout (Dropout)              (None, 256)          0           ['dense[0][0]']                  \n",
            "                                                                                                  \n",
            " dense_1 (Dense)                (None, 11)           2827        ['dropout[0][0]']                \n",
            "                                                                                                  \n",
            "==================================================================================================\n",
            "Total params: 223,499\n",
            "Trainable params: 223,499\n",
            "Non-trainable params: 0\n",
            "__________________________________________________________________________________________________\n"
          ]
        }
      ],
      "source": [
        "model = models.Model(inputs, outputs, name=\"toy_resnet\")\n",
        "model.summary()"
      ]
    },
    {
      "cell_type": "code",
      "execution_count": null,
      "metadata": {
        "id": "jmIYFgTcleGU"
      },
      "outputs": [],
      "source": [
        "model.compile(\n",
        "    loss=losses.CategoricalCrossentropy(from_logits=True),\n",
        "    optimizer=optimizers.Adam(),\n",
        "    metrics=[\"accuracy\"],\n",
        ")"
      ]
    },
    {
      "cell_type": "markdown",
      "metadata": {
        "id": "JUu3vZITl_lH"
      },
      "source": [
        "20에폭"
      ]
    },
    {
      "cell_type": "code",
      "execution_count": null,
      "metadata": {
        "colab": {
          "base_uri": "https://localhost:8080/"
        },
        "id": "lk8kUFujleEQ",
        "outputId": "7f7848c2-16a8-4eb2-bda5-7096f58cc519"
      },
      "outputs": [
        {
          "name": "stdout",
          "output_type": "stream",
          "text": [
            "Epoch 1/20\n",
            "27/27 [==============================] - 565s 20s/step - loss: 2.3820 - accuracy: 0.1343 - val_loss: 2.3451 - val_accuracy: 0.1429\n",
            "Epoch 2/20\n",
            "27/27 [==============================] - 33s 1s/step - loss: 2.3249 - accuracy: 0.1227 - val_loss: 2.3024 - val_accuracy: 0.1729\n",
            "Epoch 3/20\n",
            "27/27 [==============================] - 33s 1s/step - loss: 2.2707 - accuracy: 0.1493 - val_loss: 2.2188 - val_accuracy: 0.1654\n",
            "Epoch 4/20\n",
            "27/27 [==============================] - 32s 1s/step - loss: 2.1977 - accuracy: 0.1759 - val_loss: 2.1674 - val_accuracy: 0.2782\n",
            "Epoch 5/20\n",
            "27/27 [==============================] - 33s 1s/step - loss: 2.0788 - accuracy: 0.1933 - val_loss: 2.0110 - val_accuracy: 0.2707\n",
            "Epoch 6/20\n",
            "27/27 [==============================] - 32s 1s/step - loss: 2.0278 - accuracy: 0.2315 - val_loss: 1.9658 - val_accuracy: 0.2932\n",
            "Epoch 7/20\n",
            "27/27 [==============================] - 33s 1s/step - loss: 1.9473 - accuracy: 0.2535 - val_loss: 1.8695 - val_accuracy: 0.3083\n",
            "Epoch 8/20\n",
            "27/27 [==============================] - 33s 1s/step - loss: 1.9582 - accuracy: 0.2627 - val_loss: 1.8327 - val_accuracy: 0.2105\n",
            "Epoch 9/20\n",
            "27/27 [==============================] - 33s 1s/step - loss: 1.9316 - accuracy: 0.2789 - val_loss: 1.8021 - val_accuracy: 0.2707\n",
            "Epoch 10/20\n",
            "27/27 [==============================] - 33s 1s/step - loss: 1.7740 - accuracy: 0.3125 - val_loss: 1.5970 - val_accuracy: 0.3308\n",
            "Epoch 11/20\n",
            "27/27 [==============================] - 33s 1s/step - loss: 1.6748 - accuracy: 0.3449 - val_loss: 1.5386 - val_accuracy: 0.3759\n",
            "Epoch 12/20\n",
            "27/27 [==============================] - 32s 1s/step - loss: 1.5511 - accuracy: 0.3773 - val_loss: 1.4349 - val_accuracy: 0.3910\n",
            "Epoch 13/20\n",
            "27/27 [==============================] - 32s 1s/step - loss: 1.4659 - accuracy: 0.4479 - val_loss: 1.3834 - val_accuracy: 0.4135\n",
            "Epoch 14/20\n",
            "27/27 [==============================] - 32s 1s/step - loss: 1.4395 - accuracy: 0.4352 - val_loss: 1.1967 - val_accuracy: 0.5338\n",
            "Epoch 15/20\n",
            "27/27 [==============================] - 32s 1s/step - loss: 1.2959 - accuracy: 0.4780 - val_loss: 1.3247 - val_accuracy: 0.4135\n",
            "Epoch 16/20\n",
            "27/27 [==============================] - 33s 1s/step - loss: 1.3099 - accuracy: 0.4630 - val_loss: 1.1248 - val_accuracy: 0.5639\n",
            "Epoch 17/20\n",
            "27/27 [==============================] - 33s 1s/step - loss: 1.2150 - accuracy: 0.5255 - val_loss: 1.0107 - val_accuracy: 0.5789\n",
            "Epoch 18/20\n",
            "27/27 [==============================] - 32s 1s/step - loss: 1.1440 - accuracy: 0.5370 - val_loss: 0.9760 - val_accuracy: 0.5639\n",
            "Epoch 19/20\n",
            "27/27 [==============================] - 33s 1s/step - loss: 1.0901 - accuracy: 0.5880 - val_loss: 0.8650 - val_accuracy: 0.6692\n",
            "Epoch 20/20\n",
            "27/27 [==============================] - 33s 1s/step - loss: 1.1308 - accuracy: 0.5660 - val_loss: 0.9932 - val_accuracy: 0.6541\n"
          ]
        }
      ],
      "source": [
        "history = model.fit(\n",
        "    train_ds,\n",
        "    validation_data=val_ds,\n",
        "    epochs=20\n",
        ")"
      ]
    },
    {
      "cell_type": "code",
      "execution_count": null,
      "metadata": {
        "colab": {
          "base_uri": "https://localhost:8080/"
        },
        "id": "DdjiIk_GleCF",
        "outputId": "04b534ac-9892-4203-b880-b652bc1deb36"
      },
      "outputs": [
        {
          "name": "stdout",
          "output_type": "stream",
          "text": [
            "5/5 - 3s - loss: 0.9932 - accuracy: 0.6541 - 3s/epoch - 633ms/step\n",
            "Test loss: 0.9931573867797852\n",
            "Test accuracy: 0.6541353464126587\n"
          ]
        }
      ],
      "source": [
        "test_scores = model.evaluate(val_ds, verbose=2)\n",
        "print(\"Test loss:\", test_scores[0])\n",
        "print(\"Test accuracy:\", test_scores[1])"
      ]
    },
    {
      "cell_type": "code",
      "execution_count": null,
      "metadata": {
        "colab": {
          "base_uri": "https://localhost:8080/",
          "height": 283
        },
        "id": "oujHol31ld_v",
        "outputId": "040932ee-a067-497a-e573-df384cbeaf75"
      },
      "outputs": [
        {
          "data": {
            "text/plain": [
              "<matplotlib.axes._subplots.AxesSubplot at 0x7f5f7325fb50>"
            ]
          },
          "execution_count": 53,
          "metadata": {},
          "output_type": "execute_result"
        },
        {
          "data": {
            "image/png": "[encoded data removed]",
            "text/plain": [
              "<Figure size 432x288 with 1 Axes>"
            ]
          },
          "metadata": {},
          "output_type": "display_data"
        }
      ],
      "source": [
        "history_df = pd.DataFrame(history.history)\n",
        "history_df[[\"loss\", \"val_loss\"]].plot()"
      ]
    },
    {
      "cell_type": "code",
      "execution_count": null,
      "metadata": {
        "colab": {
          "base_uri": "https://localhost:8080/",
          "height": 283
        },
        "id": "M_7K5Tn4mDFm",
        "outputId": "820fa286-c54d-48bd-cba3-46f8c6a16eab"
      },
      "outputs": [
        {
          "data": {
            "text/plain": [
              "<matplotlib.axes._subplots.AxesSubplot at 0x7f5f7314d310>"
            ]
          },
          "execution_count": 54,
          "metadata": {},
          "output_type": "execute_result"
        },
        {
          "data": {
            "image/png": "[encoded data removed]",
            "text/plain": [
              "<Figure size 432x288 with 1 Axes>"
            ]
          },
          "metadata": {},
          "output_type": "display_data"
        }
      ],
      "source": [
        "history_df[[\"accuracy\", \"val_accuracy\"]].plot()"
      ]
    },
    {
      "cell_type": "markdown",
      "metadata": {
        "id": "poSxRv5DmWmT"
      },
      "source": [
        "40에폭"
      ]
    },
    {
      "cell_type": "code",
      "execution_count": null,
      "metadata": {
        "colab": {
          "base_uri": "https://localhost:8080/"
        },
        "id": "fbhgnM2amWmZ",
        "outputId": "420b768b-28e0-4545-b7da-36919172f909"
      },
      "outputs": [
        {
          "name": "stdout",
          "output_type": "stream",
          "text": [
            "Epoch 1/40\n",
            "27/27 [==============================] - 34s 1s/step - loss: 1.0164 - accuracy: 0.5833 - val_loss: 1.0767 - val_accuracy: 0.6165\n",
            "Epoch 2/40\n",
            "27/27 [==============================] - 33s 1s/step - loss: 0.9660 - accuracy: 0.6458 - val_loss: 0.8676 - val_accuracy: 0.6617\n",
            "Epoch 3/40\n",
            "27/27 [==============================] - 33s 1s/step - loss: 0.8903 - accuracy: 0.6424 - val_loss: 0.7414 - val_accuracy: 0.6767\n",
            "Epoch 4/40\n",
            "27/27 [==============================] - 33s 1s/step - loss: 0.8871 - accuracy: 0.6377 - val_loss: 1.2741 - val_accuracy: 0.6015\n",
            "Epoch 5/40\n",
            "27/27 [==============================] - 33s 1s/step - loss: 0.9970 - accuracy: 0.6215 - val_loss: 0.8789 - val_accuracy: 0.6917\n",
            "Epoch 6/40\n",
            "27/27 [==============================] - 33s 1s/step - loss: 0.7898 - accuracy: 0.6829 - val_loss: 1.1028 - val_accuracy: 0.6692\n",
            "Epoch 7/40\n",
            "27/27 [==============================] - 33s 1s/step - loss: 0.7828 - accuracy: 0.6910 - val_loss: 0.5863 - val_accuracy: 0.7519\n",
            "Epoch 8/40\n",
            "27/27 [==============================] - 33s 1s/step - loss: 0.6614 - accuracy: 0.7188 - val_loss: 0.5747 - val_accuracy: 0.7444\n",
            "Epoch 9/40\n",
            "27/27 [==============================] - 33s 1s/step - loss: 0.7106 - accuracy: 0.7176 - val_loss: 0.6966 - val_accuracy: 0.7669\n",
            "Epoch 10/40\n",
            "27/27 [==============================] - 33s 1s/step - loss: 0.6203 - accuracy: 0.7431 - val_loss: 0.6156 - val_accuracy: 0.7519\n",
            "Epoch 11/40\n",
            "27/27 [==============================] - 33s 1s/step - loss: 0.7034 - accuracy: 0.7488 - val_loss: 0.5187 - val_accuracy: 0.8045\n",
            "Epoch 12/40\n",
            "27/27 [==============================] - 33s 1s/step - loss: 0.7311 - accuracy: 0.7130 - val_loss: 0.5922 - val_accuracy: 0.7669\n",
            "Epoch 13/40\n",
            "27/27 [==============================] - 32s 1s/step - loss: 0.6134 - accuracy: 0.7523 - val_loss: 0.5538 - val_accuracy: 0.7820\n",
            "Epoch 14/40\n",
            "27/27 [==============================] - 33s 1s/step - loss: 0.5925 - accuracy: 0.7581 - val_loss: 0.4799 - val_accuracy: 0.8271\n",
            "Epoch 15/40\n",
            "27/27 [==============================] - 33s 1s/step - loss: 0.5608 - accuracy: 0.7674 - val_loss: 0.5219 - val_accuracy: 0.7970\n",
            "Epoch 16/40\n",
            "27/27 [==============================] - 33s 1s/step - loss: 0.5190 - accuracy: 0.7917 - val_loss: 0.4869 - val_accuracy: 0.8571\n",
            "Epoch 17/40\n",
            "27/27 [==============================] - 32s 1s/step - loss: 0.5100 - accuracy: 0.7940 - val_loss: 0.3753 - val_accuracy: 0.8120\n",
            "Epoch 18/40\n",
            "27/27 [==============================] - 33s 1s/step - loss: 0.4448 - accuracy: 0.8333 - val_loss: 0.5004 - val_accuracy: 0.8346\n",
            "Epoch 19/40\n",
            "27/27 [==============================] - 33s 1s/step - loss: 0.4871 - accuracy: 0.8125 - val_loss: 0.4382 - val_accuracy: 0.8195\n",
            "Epoch 20/40\n",
            "27/27 [==============================] - 33s 1s/step - loss: 0.4693 - accuracy: 0.8275 - val_loss: 0.3050 - val_accuracy: 0.8571\n",
            "Epoch 21/40\n",
            "27/27 [==============================] - 33s 1s/step - loss: 0.4506 - accuracy: 0.8183 - val_loss: 0.5789 - val_accuracy: 0.8647\n",
            "Epoch 22/40\n",
            "27/27 [==============================] - 32s 1s/step - loss: 0.6986 - accuracy: 0.7720 - val_loss: 0.4636 - val_accuracy: 0.7820\n",
            "Epoch 23/40\n",
            "27/27 [==============================] - 33s 1s/step - loss: 0.4714 - accuracy: 0.8171 - val_loss: 0.2951 - val_accuracy: 0.9023\n",
            "Epoch 24/40\n",
            "27/27 [==============================] - 32s 1s/step - loss: 0.5395 - accuracy: 0.7847 - val_loss: 0.3926 - val_accuracy: 0.8496\n",
            "Epoch 25/40\n",
            "27/27 [==============================] - 32s 1s/step - loss: 0.3949 - accuracy: 0.8588 - val_loss: 0.2720 - val_accuracy: 0.8797\n",
            "Epoch 26/40\n",
            "27/27 [==============================] - 32s 1s/step - loss: 0.3822 - accuracy: 0.8461 - val_loss: 0.2521 - val_accuracy: 0.9248\n",
            "Epoch 27/40\n",
            "27/27 [==============================] - 33s 1s/step - loss: 0.3095 - accuracy: 0.8877 - val_loss: 0.3349 - val_accuracy: 0.8947\n",
            "Epoch 28/40\n",
            "27/27 [==============================] - 33s 1s/step - loss: 0.5563 - accuracy: 0.8171 - val_loss: 0.3936 - val_accuracy: 0.8571\n",
            "Epoch 29/40\n",
            "27/27 [==============================] - 32s 1s/step - loss: 0.5175 - accuracy: 0.8021 - val_loss: 0.3190 - val_accuracy: 0.8571\n",
            "Epoch 30/40\n",
            "27/27 [==============================] - 32s 1s/step - loss: 0.3400 - accuracy: 0.8681 - val_loss: 0.2084 - val_accuracy: 0.9474\n",
            "Epoch 31/40\n",
            "27/27 [==============================] - 32s 1s/step - loss: 0.6136 - accuracy: 0.8252 - val_loss: 0.3542 - val_accuracy: 0.8346\n",
            "Epoch 32/40\n",
            "27/27 [==============================] - 32s 1s/step - loss: 0.3469 - accuracy: 0.8773 - val_loss: 0.2132 - val_accuracy: 0.9248\n",
            "Epoch 33/40\n",
            "27/27 [==============================] - 32s 1s/step - loss: 0.3088 - accuracy: 0.8750 - val_loss: 0.2175 - val_accuracy: 0.9098\n",
            "Epoch 34/40\n",
            "27/27 [==============================] - 32s 1s/step - loss: 0.2527 - accuracy: 0.8981 - val_loss: 0.2104 - val_accuracy: 0.9398\n",
            "Epoch 35/40\n",
            "27/27 [==============================] - 32s 1s/step - loss: 0.2928 - accuracy: 0.8831 - val_loss: 0.2263 - val_accuracy: 0.9173\n",
            "Epoch 36/40\n",
            "27/27 [==============================] - 33s 1s/step - loss: 0.3086 - accuracy: 0.8900 - val_loss: 0.2213 - val_accuracy: 0.9173\n",
            "Epoch 37/40\n",
            "27/27 [==============================] - 33s 1s/step - loss: 0.2286 - accuracy: 0.9155 - val_loss: 0.2014 - val_accuracy: 0.9398\n",
            "Epoch 38/40\n",
            "27/27 [==============================] - 33s 1s/step - loss: 0.1771 - accuracy: 0.9248 - val_loss: 0.1604 - val_accuracy: 0.9549\n",
            "Epoch 39/40\n",
            "27/27 [==============================] - 33s 1s/step - loss: 0.2460 - accuracy: 0.9109 - val_loss: 0.2461 - val_accuracy: 0.9173\n",
            "Epoch 40/40\n",
            "27/27 [==============================] - 33s 1s/step - loss: 0.4191 - accuracy: 0.8750 - val_loss: 0.1702 - val_accuracy: 0.9474\n"
          ]
        }
      ],
      "source": [
        "history = model.fit(\n",
        "    train_ds,\n",
        "    validation_data=val_ds,\n",
        "    epochs=40\n",
        ")"
      ]
    },
    {
      "cell_type": "code",
      "execution_count": null,
      "metadata": {
        "colab": {
          "base_uri": "https://localhost:8080/"
        },
        "id": "xhkksf04mWmZ",
        "outputId": "e3d66f01-5a1a-46e6-edff-363ede842405"
      },
      "outputs": [
        {
          "name": "stdout",
          "output_type": "stream",
          "text": [
            "5/5 - 3s - loss: 0.1702 - accuracy: 0.9474 - 3s/epoch - 629ms/step\n",
            "Test loss: 0.17020069062709808\n",
            "Test accuracy: 0.9473684430122375\n"
          ]
        }
      ],
      "source": [
        "test_scores = model.evaluate(val_ds, verbose=2)\n",
        "print(\"Test loss:\", test_scores[0])\n",
        "print(\"Test accuracy:\", test_scores[1])"
      ]
    },
    {
      "cell_type": "code",
      "execution_count": null,
      "metadata": {
        "colab": {
          "base_uri": "https://localhost:8080/",
          "height": 283
        },
        "id": "0XOf9IlDmWma",
        "outputId": "6216a71f-92c4-4f1e-cd57-8492ed49ad13"
      },
      "outputs": [
        {
          "data": {
            "text/plain": [
              "<matplotlib.axes._subplots.AxesSubplot at 0x7f5f72e60050>"
            ]
          },
          "execution_count": 57,
          "metadata": {},
          "output_type": "execute_result"
        },
        {
          "data": {
            "image/png": "[encoded data removed]",
            "text/plain": [
              "<Figure size 432x288 with 1 Axes>"
            ]
          },
          "metadata": {},
          "output_type": "display_data"
        }
      ],
      "source": [
        "history_df = pd.DataFrame(history.history)\n",
        "history_df[[\"loss\", \"val_loss\"]].plot()"
      ]
    },
    {
      "cell_type": "code",
      "execution_count": null,
      "metadata": {
        "colab": {
          "base_uri": "https://localhost:8080/",
          "height": 283
        },
        "id": "2dPhOEvdmWma",
        "outputId": "c1ed4808-7b78-4be3-fdc3-3e4ce013e36e"
      },
      "outputs": [
        {
          "data": {
            "text/plain": [
              "<matplotlib.axes._subplots.AxesSubplot at 0x7f5ef67754d0>"
            ]
          },
          "execution_count": 58,
          "metadata": {},
          "output_type": "execute_result"
        },
        {
          "data": {
            "image/png": "[encoded data removed]",
            "text/plain": [
              "<Figure size 432x288 with 1 Axes>"
            ]
          },
          "metadata": {},
          "output_type": "display_data"
        }
      ],
      "source": [
        "history_df[[\"accuracy\", \"val_accuracy\"]].plot()"
      ]
    },
    {
      "cell_type": "code",
      "execution_count": null,
      "metadata": {
        "id": "zDabghxmmei7"
      },
      "outputs": [],
      "source": [
        ""
      ]
    },
    {
      "cell_type": "markdown",
      "metadata": {
        "id": "7ISv136qmeyn"
      },
      "source": [
        "60에폭"
      ]
    },
    {
      "cell_type": "code",
      "execution_count": null,
      "metadata": {
        "colab": {
          "background_save": true,
          "base_uri": "https://localhost:8080/"
        },
        "id": "Nc8eKM8wmeyn",
        "outputId": "fff28969-f72d-4510-b53b-fcafae009cda"
      },
      "outputs": [
        {
          "name": "stdout",
          "output_type": "stream",
          "text": [
            "Epoch 1/60\n",
            "27/27 [==============================] - 33s 1s/step - loss: 0.2018 - accuracy: 0.9340 - val_loss: 0.1111 - val_accuracy: 0.9549\n",
            "Epoch 2/60\n",
            "27/27 [==============================] - 33s 1s/step - loss: 0.1991 - accuracy: 0.9340 - val_loss: 0.2161 - val_accuracy: 0.9549\n",
            "Epoch 3/60\n",
            "27/27 [==============================] - 33s 1s/step - loss: 0.1545 - accuracy: 0.9456 - val_loss: 0.1096 - val_accuracy: 0.9398\n",
            "Epoch 4/60\n",
            "27/27 [==============================] - 32s 1s/step - loss: 0.2646 - accuracy: 0.9028 - val_loss: 0.1414 - val_accuracy: 0.9699\n",
            "Epoch 5/60\n",
            "27/27 [==============================] - 33s 1s/step - loss: 0.9388 - accuracy: 0.7812 - val_loss: 0.5495 - val_accuracy: 0.8120\n",
            "Epoch 6/60\n",
            "27/27 [==============================] - 33s 1s/step - loss: 0.5086 - accuracy: 0.8241 - val_loss: 0.2030 - val_accuracy: 0.9474\n",
            "Epoch 7/60\n",
            "27/27 [==============================] - 33s 1s/step - loss: 0.3467 - accuracy: 0.8669 - val_loss: 0.1399 - val_accuracy: 0.9624\n",
            "Epoch 8/60\n",
            "27/27 [==============================] - 33s 1s/step - loss: 0.2446 - accuracy: 0.9132 - val_loss: 0.2198 - val_accuracy: 0.9173\n",
            "Epoch 9/60\n",
            "27/27 [==============================] - 33s 1s/step - loss: 0.3944 - accuracy: 0.8704 - val_loss: 0.2217 - val_accuracy: 0.9398\n",
            "Epoch 10/60\n",
            "27/27 [==============================] - 32s 1s/step - loss: 0.3345 - accuracy: 0.8750 - val_loss: 0.1473 - val_accuracy: 0.9774\n",
            "Epoch 11/60\n",
            "27/27 [==============================] - 32s 1s/step - loss: 0.2411 - accuracy: 0.9248 - val_loss: 0.1154 - val_accuracy: 0.9624\n",
            "Epoch 12/60\n",
            "27/27 [==============================] - 32s 1s/step - loss: 0.1520 - accuracy: 0.9560 - val_loss: 0.0676 - val_accuracy: 0.9774\n",
            "Epoch 13/60\n",
            "27/27 [==============================] - 33s 1s/step - loss: 0.1705 - accuracy: 0.9387 - val_loss: 0.0704 - val_accuracy: 0.9699\n",
            "Epoch 14/60\n",
            "27/27 [==============================] - 33s 1s/step - loss: 0.1389 - accuracy: 0.9502 - val_loss: 0.0577 - val_accuracy: 0.9925\n",
            "Epoch 15/60\n",
            "27/27 [==============================] - 33s 1s/step - loss: 0.1474 - accuracy: 0.9433 - val_loss: 0.0747 - val_accuracy: 0.9850\n",
            "Epoch 16/60\n",
            "27/27 [==============================] - 33s 1s/step - loss: 0.1578 - accuracy: 0.9537 - val_loss: 0.0486 - val_accuracy: 0.9925\n",
            "Epoch 17/60\n",
            "27/27 [==============================] - 33s 1s/step - loss: 0.5141 - accuracy: 0.8391 - val_loss: 0.1673 - val_accuracy: 0.9549\n",
            "Epoch 18/60\n",
            "27/27 [==============================] - 33s 1s/step - loss: 0.2479 - accuracy: 0.9120 - val_loss: 0.1155 - val_accuracy: 0.9624\n",
            "Epoch 19/60\n",
            "27/27 [==============================] - 32s 1s/step - loss: 0.1935 - accuracy: 0.9375 - val_loss: 0.0901 - val_accuracy: 0.9624\n",
            "Epoch 20/60\n",
            "27/27 [==============================] - 32s 1s/step - loss: 0.1743 - accuracy: 0.9421 - val_loss: 0.0830 - val_accuracy: 0.9624\n",
            "Epoch 21/60\n",
            "27/27 [==============================] - 32s 1s/step - loss: 0.2650 - accuracy: 0.9225 - val_loss: 0.0755 - val_accuracy: 0.9850\n",
            "Epoch 22/60\n",
            "27/27 [==============================] - 33s 1s/step - loss: 0.1347 - accuracy: 0.9595 - val_loss: 0.0589 - val_accuracy: 0.9850\n",
            "Epoch 23/60\n",
            "27/27 [==============================] - 32s 1s/step - loss: 0.1199 - accuracy: 0.9572 - val_loss: 0.0558 - val_accuracy: 0.9925\n",
            "Epoch 24/60\n",
            "27/27 [==============================] - 32s 1s/step - loss: 0.1317 - accuracy: 0.9502 - val_loss: 0.1679 - val_accuracy: 0.9248\n",
            "Epoch 25/60\n",
            "27/27 [==============================] - 33s 1s/step - loss: 0.3340 - accuracy: 0.8970 - val_loss: 0.3675 - val_accuracy: 0.8647\n",
            "Epoch 26/60\n",
            "27/27 [==============================] - 32s 1s/step - loss: 0.2979 - accuracy: 0.9016 - val_loss: 0.2542 - val_accuracy: 0.9098\n",
            "Epoch 27/60\n",
            "27/27 [==============================] - 33s 1s/step - loss: 0.1673 - accuracy: 0.9398 - val_loss: 0.0566 - val_accuracy: 0.9850\n",
            "Epoch 28/60\n",
            "27/27 [==============================] - 33s 1s/step - loss: 0.1520 - accuracy: 0.9444 - val_loss: 0.0635 - val_accuracy: 0.9699\n",
            "Epoch 29/60\n",
            "27/27 [==============================] - 33s 1s/step - loss: 0.1231 - accuracy: 0.9722 - val_loss: 0.1377 - val_accuracy: 0.9474\n",
            "Epoch 30/60\n",
            "27/27 [==============================] - 33s 1s/step - loss: 0.1338 - accuracy: 0.9549 - val_loss: 0.0541 - val_accuracy: 0.9850\n",
            "Epoch 31/60\n",
            "27/27 [==============================] - 32s 1s/step - loss: 0.1142 - accuracy: 0.9606 - val_loss: 0.1070 - val_accuracy: 0.9624\n",
            "Epoch 32/60\n",
            "27/27 [==============================] - 33s 1s/step - loss: 0.1281 - accuracy: 0.9572 - val_loss: 0.1646 - val_accuracy: 0.9323\n",
            "Epoch 33/60\n",
            "27/27 [==============================] - 32s 1s/step - loss: 0.1580 - accuracy: 0.9433 - val_loss: 0.0641 - val_accuracy: 0.9850\n",
            "Epoch 34/60\n",
            "27/27 [==============================] - 33s 1s/step - loss: 0.1335 - accuracy: 0.9537 - val_loss: 0.0435 - val_accuracy: 0.9774\n",
            "Epoch 35/60\n",
            "27/27 [==============================] - 33s 1s/step - loss: 0.1035 - accuracy: 0.9618 - val_loss: 0.0476 - val_accuracy: 0.9699\n",
            "Epoch 36/60\n",
            "27/27 [==============================] - 33s 1s/step - loss: 0.0924 - accuracy: 0.9699 - val_loss: 0.0608 - val_accuracy: 0.9850\n",
            "Epoch 37/60\n",
            "27/27 [==============================] - 33s 1s/step - loss: 0.0686 - accuracy: 0.9803 - val_loss: 0.1493 - val_accuracy: 0.9624\n",
            "Epoch 38/60\n",
            "27/27 [==============================] - 33s 1s/step - loss: 0.0740 - accuracy: 0.9780 - val_loss: 0.0114 - val_accuracy: 1.0000\n",
            "Epoch 39/60\n",
            "27/27 [==============================] - 33s 1s/step - loss: 0.2212 - accuracy: 0.9444 - val_loss: 0.0558 - val_accuracy: 0.9774\n",
            "Epoch 40/60\n",
            "27/27 [==============================] - 33s 1s/step - loss: 0.1579 - accuracy: 0.9398 - val_loss: 0.0659 - val_accuracy: 0.9774\n",
            "Epoch 41/60\n",
            "27/27 [==============================] - 33s 1s/step - loss: 0.1054 - accuracy: 0.9676 - val_loss: 0.0382 - val_accuracy: 0.9925\n",
            "Epoch 42/60\n",
            "27/27 [==============================] - 33s 1s/step - loss: 0.0639 - accuracy: 0.9838 - val_loss: 0.0194 - val_accuracy: 0.9925\n",
            "Epoch 43/60\n",
            "27/27 [==============================] - 33s 1s/step - loss: 0.1615 - accuracy: 0.9502 - val_loss: 0.0753 - val_accuracy: 0.9850\n",
            "Epoch 44/60\n",
            "27/27 [==============================] - 33s 1s/step - loss: 0.2762 - accuracy: 0.9294 - val_loss: 0.0969 - val_accuracy: 0.9624\n",
            "Epoch 45/60\n",
            "27/27 [==============================] - 33s 1s/step - loss: 0.1835 - accuracy: 0.9271 - val_loss: 0.1368 - val_accuracy: 0.9474\n",
            "Epoch 46/60\n",
            "27/27 [==============================] - 33s 1s/step - loss: 0.1395 - accuracy: 0.9537 - val_loss: 0.0345 - val_accuracy: 0.9850\n",
            "Epoch 47/60\n",
            "27/27 [==============================] - 33s 1s/step - loss: 0.0804 - accuracy: 0.9792 - val_loss: 0.0166 - val_accuracy: 1.0000\n",
            "Epoch 48/60\n",
            "27/27 [==============================] - 33s 1s/step - loss: 0.1966 - accuracy: 0.9537 - val_loss: 0.1500 - val_accuracy: 0.9624\n",
            "Epoch 49/60\n",
            "27/27 [==============================] - 33s 1s/step - loss: 0.2263 - accuracy: 0.9352 - val_loss: 0.0292 - val_accuracy: 0.9925\n",
            "Epoch 50/60\n",
            "27/27 [==============================] - 33s 1s/step - loss: 0.1858 - accuracy: 0.9375 - val_loss: 0.1423 - val_accuracy: 0.9699\n",
            "Epoch 51/60\n",
            "27/27 [==============================] - 33s 1s/step - loss: 0.0869 - accuracy: 0.9676 - val_loss: 0.0218 - val_accuracy: 0.9925\n",
            "Epoch 52/60\n",
            "27/27 [==============================] - 33s 1s/step - loss: 0.0833 - accuracy: 0.9734 - val_loss: 0.0199 - val_accuracy: 0.9925\n",
            "Epoch 53/60\n",
            "27/27 [==============================] - 33s 1s/step - loss: 0.1324 - accuracy: 0.9595 - val_loss: 0.0459 - val_accuracy: 0.9624\n",
            "Epoch 54/60\n",
            "27/27 [==============================] - 33s 1s/step - loss: 0.1118 - accuracy: 0.9583 - val_loss: 0.0390 - val_accuracy: 1.0000\n",
            "Epoch 55/60\n",
            "27/27 [==============================] - 33s 1s/step - loss: 0.0802 - accuracy: 0.9688 - val_loss: 0.1048 - val_accuracy: 0.9699\n",
            "Epoch 56/60\n",
            "27/27 [==============================] - 33s 1s/step - loss: 0.0674 - accuracy: 0.9792 - val_loss: 0.0691 - val_accuracy: 0.9850\n",
            "Epoch 57/60\n",
            "27/27 [==============================] - 33s 1s/step - loss: 0.0582 - accuracy: 0.9850 - val_loss: 0.0164 - val_accuracy: 0.9925\n",
            "Epoch 58/60\n",
            "27/27 [==============================] - 33s 1s/step - loss: 0.0825 - accuracy: 0.9803 - val_loss: 0.0188 - val_accuracy: 0.9925\n",
            "Epoch 59/60\n",
            "27/27 [==============================] - 32s 1s/step - loss: 0.0438 - accuracy: 0.9861 - val_loss: 0.0058 - val_accuracy: 1.0000\n",
            "Epoch 60/60\n",
            "27/27 [==============================] - 33s 1s/step - loss: 0.0424 - accuracy: 0.9873 - val_loss: 0.0063 - val_accuracy: 1.0000\n"
          ]
        }
      ],
      "source": [
        "history = model.fit(\n",
        "    train_ds,\n",
        "    validation_data=val_ds,\n",
        "    epochs=60\n",
        ")"
      ]
    },
    {
      "cell_type": "code",
      "execution_count": null,
      "metadata": {
        "colab": {
          "background_save": true
        },
        "id": "_ns0qiosmeyn",
        "outputId": "1cf110f5-dec6-4644-c4ed-702a86836eaa"
      },
      "outputs": [
        {
          "name": "stdout",
          "output_type": "stream",
          "text": [
            "5/5 - 3s - loss: 0.0063 - accuracy: 1.0000 - 3s/epoch - 618ms/step\n",
            "Test loss: 0.006312219426035881\n",
            "Test accuracy: 1.0\n"
          ]
        }
      ],
      "source": [
        "test_scores = model.evaluate(val_ds, verbose=2)\n",
        "print(\"Test loss:\", test_scores[0])\n",
        "print(\"Test accuracy:\", test_scores[1])"
      ]
    },
    {
      "cell_type": "code",
      "execution_count": null,
      "metadata": {
        "colab": {
          "background_save": true
        },
        "id": "cbZOP584meyn",
        "outputId": "daf8e370-7285-43e7-fec7-949443a8e0d5"
      },
      "outputs": [
        {
          "data": {
            "text/plain": [
              "<matplotlib.axes._subplots.AxesSubplot at 0x7f5ef667dd90>"
            ]
          },
          "execution_count": null,
          "metadata": {},
          "output_type": "execute_result"
        },
        {
          "data": {
            "image/png": "[encoded data removed]",
            "text/plain": [
              "<Figure size 432x288 with 1 Axes>"
            ]
          },
          "metadata": {},
          "output_type": "display_data"
        }
      ],
      "source": [
        "history_df = pd.DataFrame(history.history)\n",
        "history_df[[\"loss\", \"val_loss\"]].plot()"
      ]
    },
    {
      "cell_type": "code",
      "execution_count": null,
      "metadata": {
        "colab": {
          "background_save": true
        },
        "id": "NUbzvueDmeyn",
        "outputId": "68801e20-58b1-4aa6-c76a-a10219123751"
      },
      "outputs": [
        {
          "data": {
            "text/plain": [
              "<matplotlib.axes._subplots.AxesSubplot at 0x7f5ef65ee550>"
            ]
          },
          "execution_count": null,
          "metadata": {},
          "output_type": "execute_result"
        },
        {
          "data": {
            "image/png": "[encoded data removed]",
            "text/plain": [
              "<Figure size 432x288 with 1 Axes>"
            ]
          },
          "metadata": {},
          "output_type": "display_data"
        }
      ],
      "source": [
        "history_df[[\"accuracy\", \"val_accuracy\"]].plot()"
      ]
    },
    {
      "cell_type": "code",
      "execution_count": null,
      "metadata": {
        "id": "jPOD4TBXmef9"
      },
      "outputs": [],
      "source": [
        ""
      ]
    },
    {
      "cell_type": "code",
      "execution_count": null,
      "metadata": {
        "id": "rHhTUaYGmedx"
      },
      "outputs": [],
      "source": [
        ""
      ]
    },
    {
      "cell_type": "markdown",
      "metadata": {
        "id": "6OkTeyyJmnrz"
      },
      "source": [
        "80에폭"
      ]
    },
    {
      "cell_type": "code",
      "execution_count": null,
      "metadata": {
        "colab": {
          "base_uri": "https://localhost:8080/"
        },
        "id": "hV7pHAtcmnrz",
        "outputId": "f0dae758-a1ee-42be-cc96-4a82838c4ee9"
      },
      "outputs": [
        {
          "output_type": "stream",
          "name": "stdout",
          "text": [
            "Epoch 1/80\n",
            "27/27 [==============================] - 195s 7s/step - loss: 2.3759 - accuracy: 0.1331 - val_loss: 2.3419 - val_accuracy: 0.1429\n",
            "Epoch 2/80\n",
            "27/27 [==============================] - 32s 1s/step - loss: 2.3457 - accuracy: 0.1424 - val_loss: 2.2978 - val_accuracy: 0.1429\n",
            "Epoch 3/80\n",
            "27/27 [==============================] - 32s 1s/step - loss: 2.2780 - accuracy: 0.1505 - val_loss: 2.1679 - val_accuracy: 0.1880\n",
            "Epoch 4/80\n",
            "27/27 [==============================] - 32s 1s/step - loss: 2.1632 - accuracy: 0.2060 - val_loss: 2.0755 - val_accuracy: 0.2030\n",
            "Epoch 5/80\n",
            "27/27 [==============================] - 32s 1s/step - loss: 2.0755 - accuracy: 0.1944 - val_loss: 1.8857 - val_accuracy: 0.3609\n",
            "Epoch 6/80\n",
            "27/27 [==============================] - 32s 1s/step - loss: 1.8783 - accuracy: 0.2755 - val_loss: 1.7288 - val_accuracy: 0.3684\n",
            "Epoch 7/80\n",
            "27/27 [==============================] - 32s 1s/step - loss: 1.7378 - accuracy: 0.3333 - val_loss: 1.5431 - val_accuracy: 0.3459\n",
            "Epoch 8/80\n",
            "27/27 [==============================] - 33s 1s/step - loss: 1.6388 - accuracy: 0.3438 - val_loss: 1.5327 - val_accuracy: 0.3759\n",
            "Epoch 9/80\n",
            "27/27 [==============================] - 33s 1s/step - loss: 1.5803 - accuracy: 0.3623 - val_loss: 1.3489 - val_accuracy: 0.4286\n",
            "Epoch 10/80\n",
            "27/27 [==============================] - 33s 1s/step - loss: 1.4942 - accuracy: 0.4016 - val_loss: 1.2949 - val_accuracy: 0.4361\n",
            "Epoch 11/80\n",
            "27/27 [==============================] - 33s 1s/step - loss: 1.4083 - accuracy: 0.4329 - val_loss: 1.3415 - val_accuracy: 0.5564\n",
            "Epoch 12/80\n",
            "27/27 [==============================] - 33s 1s/step - loss: 1.4238 - accuracy: 0.4039 - val_loss: 1.2333 - val_accuracy: 0.4887\n",
            "Epoch 13/80\n",
            "27/27 [==============================] - 33s 1s/step - loss: 1.4041 - accuracy: 0.4167 - val_loss: 1.2344 - val_accuracy: 0.4962\n",
            "Epoch 14/80\n",
            "27/27 [==============================] - 33s 1s/step - loss: 1.3186 - accuracy: 0.4595 - val_loss: 1.1924 - val_accuracy: 0.5489\n",
            "Epoch 15/80\n",
            "27/27 [==============================] - 32s 1s/step - loss: 1.2852 - accuracy: 0.4792 - val_loss: 1.1209 - val_accuracy: 0.5564\n",
            "Epoch 16/80\n",
            "27/27 [==============================] - 32s 1s/step - loss: 1.2413 - accuracy: 0.4861 - val_loss: 1.0906 - val_accuracy: 0.5865\n",
            "Epoch 17/80\n",
            "27/27 [==============================] - 33s 1s/step - loss: 1.1351 - accuracy: 0.5162 - val_loss: 0.9723 - val_accuracy: 0.6541\n",
            "Epoch 18/80\n",
            "27/27 [==============================] - 33s 1s/step - loss: 1.1207 - accuracy: 0.5382 - val_loss: 0.9752 - val_accuracy: 0.5940\n",
            "Epoch 19/80\n",
            "27/27 [==============================] - 32s 1s/step - loss: 1.0544 - accuracy: 0.5463 - val_loss: 0.8390 - val_accuracy: 0.7143\n",
            "Epoch 20/80\n",
            "27/27 [==============================] - 32s 1s/step - loss: 1.1048 - accuracy: 0.5648 - val_loss: 1.3747 - val_accuracy: 0.5188\n",
            "Epoch 21/80\n",
            "27/27 [==============================] - 32s 1s/step - loss: 1.3297 - accuracy: 0.4873 - val_loss: 1.1663 - val_accuracy: 0.5940\n",
            "Epoch 22/80\n",
            "27/27 [==============================] - 32s 1s/step - loss: 1.1419 - accuracy: 0.5498 - val_loss: 0.8727 - val_accuracy: 0.6692\n",
            "Epoch 23/80\n",
            "27/27 [==============================] - 32s 1s/step - loss: 0.9945 - accuracy: 0.5891 - val_loss: 0.7850 - val_accuracy: 0.6842\n",
            "Epoch 24/80\n",
            "27/27 [==============================] - 32s 1s/step - loss: 0.9472 - accuracy: 0.6181 - val_loss: 0.8711 - val_accuracy: 0.6090\n",
            "Epoch 25/80\n",
            "27/27 [==============================] - 32s 1s/step - loss: 0.9680 - accuracy: 0.5961 - val_loss: 0.7460 - val_accuracy: 0.7218\n",
            "Epoch 26/80\n",
            "27/27 [==============================] - 32s 1s/step - loss: 0.8473 - accuracy: 0.6609 - val_loss: 0.6248 - val_accuracy: 0.7218\n",
            "Epoch 27/80\n",
            "27/27 [==============================] - 33s 1s/step - loss: 0.7834 - accuracy: 0.6690 - val_loss: 0.6332 - val_accuracy: 0.7669\n",
            "Epoch 28/80\n",
            "27/27 [==============================] - 32s 1s/step - loss: 0.7243 - accuracy: 0.6794 - val_loss: 0.5888 - val_accuracy: 0.7519\n",
            "Epoch 29/80\n",
            "27/27 [==============================] - 32s 1s/step - loss: 0.9407 - accuracy: 0.6319 - val_loss: 0.9232 - val_accuracy: 0.6617\n",
            "Epoch 30/80\n",
            "27/27 [==============================] - 32s 1s/step - loss: 0.8158 - accuracy: 0.6597 - val_loss: 0.6379 - val_accuracy: 0.7293\n",
            "Epoch 31/80\n",
            "27/27 [==============================] - 32s 1s/step - loss: 0.6554 - accuracy: 0.7303 - val_loss: 0.5638 - val_accuracy: 0.6617\n",
            "Epoch 32/80\n",
            "27/27 [==============================] - 32s 1s/step - loss: 0.8180 - accuracy: 0.6528 - val_loss: 0.5813 - val_accuracy: 0.7820\n",
            "Epoch 33/80\n",
            "27/27 [==============================] - 32s 1s/step - loss: 0.7258 - accuracy: 0.6863 - val_loss: 0.9455 - val_accuracy: 0.6541\n",
            "Epoch 34/80\n",
            "27/27 [==============================] - 32s 1s/step - loss: 0.8160 - accuracy: 0.6690 - val_loss: 0.6501 - val_accuracy: 0.7293\n",
            "Epoch 35/80\n",
            "27/27 [==============================] - 32s 1s/step - loss: 1.5700 - accuracy: 0.6192 - val_loss: 0.9266 - val_accuracy: 0.6692\n",
            "Epoch 36/80\n",
            "27/27 [==============================] - 32s 1s/step - loss: 0.9555 - accuracy: 0.6227 - val_loss: 0.6688 - val_accuracy: 0.7444\n",
            "Epoch 37/80\n",
            "27/27 [==============================] - 32s 1s/step - loss: 0.7071 - accuracy: 0.7176 - val_loss: 0.5333 - val_accuracy: 0.7669\n",
            "Epoch 38/80\n",
            "27/27 [==============================] - 32s 1s/step - loss: 0.5978 - accuracy: 0.7477 - val_loss: 0.5277 - val_accuracy: 0.7669\n",
            "Epoch 39/80\n",
            "27/27 [==============================] - 32s 1s/step - loss: 0.6283 - accuracy: 0.7234 - val_loss: 0.5246 - val_accuracy: 0.7143\n",
            "Epoch 40/80\n",
            "27/27 [==============================] - 32s 1s/step - loss: 0.6217 - accuracy: 0.7361 - val_loss: 0.4705 - val_accuracy: 0.7970\n",
            "Epoch 41/80\n",
            "27/27 [==============================] - 32s 1s/step - loss: 0.5207 - accuracy: 0.7951 - val_loss: 0.4056 - val_accuracy: 0.8120\n",
            "Epoch 42/80\n",
            "27/27 [==============================] - 32s 1s/step - loss: 0.5491 - accuracy: 0.7778 - val_loss: 0.4378 - val_accuracy: 0.8496\n",
            "Epoch 43/80\n",
            "27/27 [==============================] - 32s 1s/step - loss: 0.5211 - accuracy: 0.7836 - val_loss: 0.3926 - val_accuracy: 0.8271\n",
            "Epoch 44/80\n",
            "27/27 [==============================] - 32s 1s/step - loss: 0.4857 - accuracy: 0.8067 - val_loss: 0.7232 - val_accuracy: 0.7594\n",
            "Epoch 45/80\n",
            "27/27 [==============================] - 32s 1s/step - loss: 0.5699 - accuracy: 0.7766 - val_loss: 0.4143 - val_accuracy: 0.7895\n",
            "Epoch 46/80\n",
            "27/27 [==============================] - 33s 1s/step - loss: 0.6531 - accuracy: 0.7870 - val_loss: 0.4414 - val_accuracy: 0.7820\n",
            "Epoch 47/80\n",
            "27/27 [==============================] - 32s 1s/step - loss: 0.4267 - accuracy: 0.8380 - val_loss: 0.4041 - val_accuracy: 0.8797\n",
            "Epoch 48/80\n",
            "27/27 [==============================] - 32s 1s/step - loss: 0.4115 - accuracy: 0.8449 - val_loss: 0.2442 - val_accuracy: 0.9023\n",
            "Epoch 49/80\n",
            "27/27 [==============================] - 32s 1s/step - loss: 0.7816 - accuracy: 0.7859 - val_loss: 0.6066 - val_accuracy: 0.7293\n",
            "Epoch 50/80\n",
            "27/27 [==============================] - 33s 1s/step - loss: 0.8254 - accuracy: 0.7199 - val_loss: 0.5253 - val_accuracy: 0.8045\n",
            "Epoch 51/80\n",
            "27/27 [==============================] - 32s 1s/step - loss: 0.5699 - accuracy: 0.7847 - val_loss: 0.4191 - val_accuracy: 0.8421\n",
            "Epoch 52/80\n",
            "27/27 [==============================] - 33s 1s/step - loss: 0.4942 - accuracy: 0.8137 - val_loss: 0.3453 - val_accuracy: 0.8421\n",
            "Epoch 53/80\n",
            "27/27 [==============================] - 32s 1s/step - loss: 0.3929 - accuracy: 0.8380 - val_loss: 0.2366 - val_accuracy: 0.8947\n",
            "Epoch 54/80\n",
            "27/27 [==============================] - 32s 1s/step - loss: 0.3092 - accuracy: 0.8796 - val_loss: 0.2107 - val_accuracy: 0.8872\n",
            "Epoch 55/80\n",
            "27/27 [==============================] - 32s 1s/step - loss: 0.3357 - accuracy: 0.8634 - val_loss: 0.2827 - val_accuracy: 0.9023\n",
            "Epoch 56/80\n",
            "27/27 [==============================] - 33s 1s/step - loss: 0.3847 - accuracy: 0.8507 - val_loss: 0.2004 - val_accuracy: 0.9098\n",
            "Epoch 57/80\n",
            "27/27 [==============================] - 32s 1s/step - loss: 0.3347 - accuracy: 0.8634 - val_loss: 0.2228 - val_accuracy: 0.9474\n",
            "Epoch 58/80\n",
            "27/27 [==============================] - 32s 1s/step - loss: 0.2637 - accuracy: 0.9028 - val_loss: 0.2319 - val_accuracy: 0.8947\n",
            "Epoch 59/80\n",
            "27/27 [==============================] - 32s 1s/step - loss: 0.3397 - accuracy: 0.8646 - val_loss: 0.4921 - val_accuracy: 0.7744\n",
            "Epoch 60/80\n",
            "27/27 [==============================] - 34s 1s/step - loss: 0.3843 - accuracy: 0.8484 - val_loss: 0.2409 - val_accuracy: 0.9098\n",
            "Epoch 61/80\n",
            "27/27 [==============================] - 32s 1s/step - loss: 0.2830 - accuracy: 0.8935 - val_loss: 0.2140 - val_accuracy: 0.8872\n",
            "Epoch 62/80\n",
            "27/27 [==============================] - 33s 1s/step - loss: 0.3084 - accuracy: 0.8854 - val_loss: 0.1805 - val_accuracy: 0.9173\n",
            "Epoch 63/80\n",
            "27/27 [==============================] - 32s 1s/step - loss: 0.6000 - accuracy: 0.7986 - val_loss: 0.2868 - val_accuracy: 0.9098\n",
            "Epoch 64/80\n",
            "27/27 [==============================] - 33s 1s/step - loss: 0.3560 - accuracy: 0.8484 - val_loss: 0.2299 - val_accuracy: 0.9248\n",
            "Epoch 65/80\n",
            "27/27 [==============================] - 33s 1s/step - loss: 0.2783 - accuracy: 0.8947 - val_loss: 0.1460 - val_accuracy: 0.9474\n",
            "Epoch 66/80\n",
            "27/27 [==============================] - 33s 1s/step - loss: 0.2348 - accuracy: 0.9051 - val_loss: 0.1236 - val_accuracy: 0.9398\n",
            "Epoch 67/80\n",
            "27/27 [==============================] - 32s 1s/step - loss: 0.3775 - accuracy: 0.8657 - val_loss: 0.9754 - val_accuracy: 0.7970\n",
            "Epoch 68/80\n",
            "27/27 [==============================] - 32s 1s/step - loss: 0.3523 - accuracy: 0.8715 - val_loss: 0.2730 - val_accuracy: 0.9323\n",
            "Epoch 69/80\n",
            "27/27 [==============================] - 33s 1s/step - loss: 0.2547 - accuracy: 0.9028 - val_loss: 0.2416 - val_accuracy: 0.9098\n",
            "Epoch 70/80\n",
            "27/27 [==============================] - 33s 1s/step - loss: 0.3506 - accuracy: 0.8738 - val_loss: 0.2395 - val_accuracy: 0.8872\n",
            "Epoch 71/80\n",
            "27/27 [==============================] - 33s 1s/step - loss: 0.3127 - accuracy: 0.8958 - val_loss: 0.2470 - val_accuracy: 0.8797\n",
            "Epoch 72/80\n",
            "27/27 [==============================] - 33s 1s/step - loss: 0.2164 - accuracy: 0.9201 - val_loss: 0.1410 - val_accuracy: 0.9323\n",
            "Epoch 73/80\n",
            "27/27 [==============================] - 33s 1s/step - loss: 0.2107 - accuracy: 0.9213 - val_loss: 0.1107 - val_accuracy: 0.9774\n",
            "Epoch 74/80\n",
            "27/27 [==============================] - 33s 1s/step - loss: 0.1667 - accuracy: 0.9306 - val_loss: 0.0840 - val_accuracy: 0.9850\n",
            "Epoch 75/80\n",
            "27/27 [==============================] - 33s 1s/step - loss: 0.2059 - accuracy: 0.9225 - val_loss: 0.1128 - val_accuracy: 0.9624\n",
            "Epoch 76/80\n",
            "27/27 [==============================] - 32s 1s/step - loss: 0.2632 - accuracy: 0.9097 - val_loss: 0.3254 - val_accuracy: 0.8797\n",
            "Epoch 77/80\n",
            "27/27 [==============================] - 33s 1s/step - loss: 0.2498 - accuracy: 0.9144 - val_loss: 0.2443 - val_accuracy: 0.9549\n",
            "Epoch 78/80\n",
            "27/27 [==============================] - 33s 1s/step - loss: 0.2017 - accuracy: 0.9248 - val_loss: 0.1346 - val_accuracy: 0.9624\n",
            "Epoch 79/80\n",
            "27/27 [==============================] - 33s 1s/step - loss: 0.1646 - accuracy: 0.9410 - val_loss: 0.2481 - val_accuracy: 0.8947\n",
            "Epoch 80/80\n",
            "27/27 [==============================] - 32s 1s/step - loss: 0.1898 - accuracy: 0.9248 - val_loss: 0.0703 - val_accuracy: 0.9774\n"
          ]
        }
      ],
      "source": [
        "history = model.fit(\n",
        "    train_ds,\n",
        "    validation_data=val_ds,\n",
        "    epochs=80\n",
        ")"
      ]
    },
    {
      "cell_type": "code",
      "execution_count": null,
      "metadata": {
        "colab": {
          "base_uri": "https://localhost:8080/"
        },
        "id": "bwcV2Itumnr0",
        "outputId": "e4dff1af-eb46-4397-d4fa-eda6800043be"
      },
      "outputs": [
        {
          "output_type": "stream",
          "name": "stdout",
          "text": [
            "5/5 - 3s - loss: 0.0703 - accuracy: 0.9774 - 3s/epoch - 626ms/step\n",
            "Test loss: 0.07033353298902512\n",
            "Test accuracy: 0.9774436354637146\n"
          ]
        }
      ],
      "source": [
        "test_scores = model.evaluate(val_ds, verbose=2)\n",
        "print(\"Test loss:\", test_scores[0])\n",
        "print(\"Test accuracy:\", test_scores[1])"
      ]
    },
    {
      "cell_type": "code",
      "execution_count": null,
      "metadata": {
        "colab": {
          "base_uri": "https://localhost:8080/",
          "height": 283
        },
        "id": "SlF5Ge5Kmnr0",
        "outputId": "61689efd-496b-4ba4-803e-3d45e31c23d9"
      },
      "outputs": [
        {
          "output_type": "execute_result",
          "data": {
            "text/plain": [
              "<matplotlib.axes._subplots.AxesSubplot at 0x7f939054ed10>"
            ]
          },
          "metadata": {},
          "execution_count": 31
        },
        {
          "output_type": "display_data",
          "data": {
            "text/plain": [
              "<Figure size 432x288 with 1 Axes>"
            ],
            "image/png": "[encoded data removed]"
          },
          "metadata": {
            "needs_background": "light"
          }
        }
      ],
      "source": [
        "history_df = pd.DataFrame(history.history)\n",
        "history_df[[\"loss\", \"val_loss\"]].plot()"
      ]
    },
    {
      "cell_type": "code",
      "execution_count": null,
      "metadata": {
        "id": "GfTL7Moumnr0",
        "colab": {
          "base_uri": "https://localhost:8080/",
          "height": 283
        },
        "outputId": "fa75a798-3a51-4f01-8fac-1f43e97f197b"
      },
      "outputs": [
        {
          "output_type": "execute_result",
          "data": {
            "text/plain": [
              "<matplotlib.axes._subplots.AxesSubplot at 0x7f93905c4650>"
            ]
          },
          "metadata": {},
          "execution_count": 32
        },
        {
          "output_type": "display_data",
          "data": {
            "text/plain": [
              "<Figure size 432x288 with 1 Axes>"
            ],
            "image/png": "[encoded data removed]"
          },
          "metadata": {
            "needs_background": "light"
          }
        }
      ],
      "source": [
        "history_df[[\"accuracy\", \"val_accuracy\"]].plot()"
      ]
    }
  ],
  "metadata": {
    "accelerator": "GPU",
    "colab": {
      "name": "ai_cnn.ipynb",
      "provenance": [],
      "collapsed_sections": []
    },
    "kernelspec": {
      "display_name": "Python 3",
      "name": "python3"
    },
    "language_info": {
      "name": "python"
    }
  },
  "nbformat": 4,
  "nbformat_minor": 0
}